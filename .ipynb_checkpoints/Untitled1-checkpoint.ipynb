{
 "cells": [
  {
   "cell_type": "code",
   "execution_count": null,
   "id": "93ca4c33",
   "metadata": {},
   "outputs": [],
   "source": [
    "\n",
    "def print_formatted(number):\n",
    "    \n",
    "#     print(\"{0:b}\".format(17))\n",
    "# o:10001\n",
    "    width = len(\"{0:b}\".format(number))\n",
    "#     print(width)\n",
    "\n",
    "    for i in range(1, number + 1):\n",
    "        print(\"{0:{w}d} {0:{w}o} {0:{w}X} {0:{w}b}\".format(i, w = width))\n",
    "\n",
    "if __name__ == '__main__':\n",
    "    n = int(input())\n",
    "    print_formatted(n)"
   ]
  },
  {
   "cell_type": "code",
   "execution_count": null,
   "id": "5d56bfcf",
   "metadata": {},
   "outputs": [],
   "source": [
    "print(\"{0:b}\".format(17))"
   ]
  },
  {
   "cell_type": "code",
   "execution_count": null,
   "id": "946d8ca9",
   "metadata": {},
   "outputs": [],
   "source": [
    "# def print_rangoli(size):\n",
    "#     # your code goes here\n",
    "#     import string\n",
    "#     design = string.ascii_lowercase\n",
    "\n",
    "#     L = []\n",
    "#     for i in range(n):\n",
    "#         s = \"-\".join(design[i:n])\n",
    "#         L.append((s[::-1]+s[1:]).center(4*n-3, \"-\"))\n",
    "        \n",
    "#     print('\\n'.join(L[:0:-1]+L))\n",
    "\n",
    "\n",
    "# if __name__ == '__main__':\n",
    "#     n = int(input())\n",
    "#     print_rangoli(n)"
   ]
  },
  {
   "cell_type": "code",
   "execution_count": null,
   "id": "bb628218",
   "metadata": {},
   "outputs": [],
   "source": [
    " \n",
    "# # The Minion Game in Python - Hacker Rank Solution\n",
    "# def minion_game(string):\n",
    "#     # your code goes here\n",
    "#     # The Minion Game in Python - Hacker Rank Solution START\n",
    "#     player1 = 0;\n",
    "#     player2 = 0;\n",
    "#     str_len = len(string)\n",
    "#     for i in range(str_len):\n",
    "#         if s[i] in \"AEIOU\":\n",
    "#             player1 += (str_len)-i\n",
    "#         else :\n",
    "#             player2 += (str_len)-i\n",
    "    \n",
    "#     if player1 > player2:\n",
    "#         print(\"Kevin\", player1)\n",
    "#     elif player1 < player2:\n",
    "#         print(\"Stuart\",player2)\n",
    "#     elif player1 == player2:\n",
    "#         print(\"Draw\")\n",
    "#     else :\n",
    "#         print(\"Draw\")\n",
    "#     # The Minion Game in Python - Hacker Rank Solution END\n",
    "\n",
    "# if __name__ == '__main__':\n",
    "#     s = input()\n",
    "#     minion_game(s)"
   ]
  },
  {
   "cell_type": "code",
   "execution_count": null,
   "id": "88cc9b98",
   "metadata": {},
   "outputs": [],
   "source": [
    "# def minion_game(string):\n",
    "#     vowels = 'AEIOU'\n",
    "#     kevin_score = 0\n",
    "#     stuart_score = 0\n",
    "#     for i in range(len(s)):\n",
    "#         if s[i] in vowels:\n",
    "#             kevin_score += (len(s) - i)  # Number of possible words left to right from a word of length n is always \n",
    "#                                          # n + (n-1) + (n-2) +..1\n",
    "#         else:\n",
    "#             stuart_score += (len(s) - i)\n",
    "#     if kevin_score > stuart_score:\n",
    "#         print(\"Kevin\", kevin_score)\n",
    "#     elif stuart_score > kevin_score:\n",
    "#         print(\"Stuart\", stuart_score)\n",
    "#     else:\n",
    "#         print(\"Draw\")\n",
    "       \n",
    "    \n",
    "# if __name__ == '__main__':\n",
    "#     s = input()\n",
    "#     minion_game(s)"
   ]
  },
  {
   "cell_type": "code",
   "execution_count": null,
   "id": "ffce5383",
   "metadata": {},
   "outputs": [],
   "source": [
    "# def minion_game(string):\n",
    "#     k=0\n",
    "#     s=0\n",
    "#     vowels=\"AaEeIiOoUu\"\n",
    "#     for i in range(len(string)):\n",
    "#         if string[i] in vowels:\n",
    "#             k=k+len(string)-i\n",
    "#         else:\n",
    "#             s=s+len(string)-i    \n",
    "    \n",
    "#     if k>s:\n",
    "#         print(\"Kevin\",k)\n",
    "#     elif k==s:\n",
    "#         print(\"Draw\")    \n",
    "#     else:\n",
    "#         print(\"Stuart\",s)            \n",
    "\n",
    "\n",
    "\n",
    "# if __name__ == '__main__':\n",
    "#     s = input()\n",
    "#     minion_game(s)\n",
    "                       "
   ]
  },
  {
   "cell_type": "code",
   "execution_count": null,
   "id": "fe9455c7",
   "metadata": {},
   "outputs": [],
   "source": [
    " def fizzbuzz(n):\n",
    "        if n % 3 == 0 and n % 5 == 0:\n",
    "            return 'FizzBuzz'\n",
    "        elif n % 3 == 0:\n",
    "            return 'Fizz'\n",
    "        elif n % 5 == 0:\n",
    "            return 'Buzz'\n",
    "        else:\n",
    "            return str(n)\n",
    "\n",
    "print \"\\n\".join(fizzbuzz(n) for n in xrange(1, 21))"
   ]
  },
  {
   "cell_type": "markdown",
   "id": "b16540f4",
   "metadata": {},
   "source": [
    "### "
   ]
  }
 ],
 "metadata": {
  "kernelspec": {
   "display_name": "Python 3 (ipykernel)",
   "language": "python",
   "name": "python3"
  },
  "language_info": {
   "codemirror_mode": {
    "name": "ipython",
    "version": 3
   },
   "file_extension": ".py",
   "mimetype": "text/x-python",
   "name": "python",
   "nbconvert_exporter": "python",
   "pygments_lexer": "ipython3",
   "version": "3.9.12"
  }
 },
 "nbformat": 4,
 "nbformat_minor": 5
}
